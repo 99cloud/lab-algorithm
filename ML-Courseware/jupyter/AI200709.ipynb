{
 "cells": [
  {
   "cell_type": "code",
   "execution_count": 1,
   "metadata": {},
   "outputs": [],
   "source": [
    "import numpy as np\n",
    "from sklearn.datasets import make_classification\n",
    "from sklearn.linear_model import Perceptron\n",
    "from matplotlib import pyplot as plt"
   ]
  },
  {
   "cell_type": "code",
   "execution_count": 2,
   "metadata": {},
   "outputs": [],
   "source": [
    "sample_num = 1000\n",
    "sample_rate = 0.8\n",
    "data_split = int(sample_num * sample_rate)"
   ]
  },
  {
   "cell_type": "code",
   "execution_count": 3,
   "metadata": {},
   "outputs": [],
   "source": [
    "x, y = make_classification(\n",
    "    n_samples=sample_num,\n",
    "    n_features=2,\n",
    "    n_redundant=0,\n",
    "    n_informative=1,\n",
    "    n_clusters_per_class=1\n",
    ")"
   ]
  },
  {
   "cell_type": "code",
   "execution_count": 4,
   "metadata": {},
   "outputs": [
    {
     "data": {
      "text/plain": [
       "((1000, 2), (1000,))"
      ]
     },
     "execution_count": 4,
     "metadata": {},
     "output_type": "execute_result"
    }
   ],
   "source": [
    "x.shape, y.shape"
   ]
  },
  {
   "cell_type": "code",
   "execution_count": 5,
   "metadata": {},
   "outputs": [],
   "source": [
    "x_data_train = x[:data_split, :]\n",
    "x_data_test = x[data_split:, :]\n",
    "y_data_train = y[:data_split]\n",
    "y_data_test = y[data_split:]"
   ]
  },
  {
   "cell_type": "code",
   "execution_count": 6,
   "metadata": {},
   "outputs": [
    {
     "data": {
      "text/plain": [
       "((800, 2), (200, 2))"
      ]
     },
     "execution_count": 6,
     "metadata": {},
     "output_type": "execute_result"
    }
   ],
   "source": [
    "x_data_train.shape, x_data_test.shape"
   ]
  },
  {
   "cell_type": "code",
   "execution_count": 7,
   "metadata": {},
   "outputs": [],
   "source": [
    "positive_x1 = [x[i, 0] for i in range(sample_num) if y[i] == 1]\n",
    "positive_x2 = [x[i, 1] for i in range(sample_num) if y[i] == 1]\n",
    "negative_x1 = [x[i, 0] for i in range(sample_num) if y[i] == 0]\n",
    "negative_x2 = [x[i, 1] for i in range(sample_num) if y[i] == 0]"
   ]
  },
  {
   "cell_type": "code",
   "execution_count": 8,
   "metadata": {},
   "outputs": [
    {
     "data": {
      "text/plain": [
       "497"
      ]
     },
     "execution_count": 8,
     "metadata": {},
     "output_type": "execute_result"
    }
   ],
   "source": [
    "len(positive_x1)"
   ]
  },
  {
   "cell_type": "code",
   "execution_count": 9,
   "metadata": {},
   "outputs": [],
   "source": [
    "clf = Perceptron(fit_intercept=True, n_iter_no_change=30, shuffle=False)"
   ]
  },
  {
   "cell_type": "code",
   "execution_count": 10,
   "metadata": {},
   "outputs": [
    {
     "data": {
      "text/plain": [
       "Perceptron(n_iter_no_change=30, shuffle=False)"
      ]
     },
     "execution_count": 10,
     "metadata": {},
     "output_type": "execute_result"
    }
   ],
   "source": [
    "clf.fit(x_data_train, y_data_train)"
   ]
  },
  {
   "cell_type": "code",
   "execution_count": 11,
   "metadata": {},
   "outputs": [
    {
     "name": "stdout",
     "output_type": "stream",
     "text": [
      "Coef Matrix: [[-1.28148398  4.23100344]]\n"
     ]
    }
   ],
   "source": [
    "print('Coef Matrix:', clf.coef_)"
   ]
  },
  {
   "cell_type": "code",
   "execution_count": 12,
   "metadata": {},
   "outputs": [
    {
     "name": "stdout",
     "output_type": "stream",
     "text": [
      "Intercept: [1.]\n"
     ]
    }
   ],
   "source": [
    "print('Intercept:', clf.intercept_)"
   ]
  },
  {
   "cell_type": "code",
   "execution_count": 13,
   "metadata": {},
   "outputs": [],
   "source": [
    "acc = clf.score(x_data_test, y_data_test)"
   ]
  },
  {
   "cell_type": "code",
   "execution_count": 14,
   "metadata": {},
   "outputs": [
    {
     "name": "stdout",
     "output_type": "stream",
     "text": [
      "ACC: 0.94\n"
     ]
    }
   ],
   "source": [
    "print('ACC:', acc)"
   ]
  },
  {
   "cell_type": "code",
   "execution_count": 15,
   "metadata": {},
   "outputs": [
    {
     "data": {
      "text/plain": [
       "(-3.834705311802318, 3.7398231556370836)"
      ]
     },
     "execution_count": 15,
     "metadata": {},
     "output_type": "execute_result"
    },
    {
     "data": {
      "image/png": "[encoded data removed]",
      "text/plain": [
       "<Figure size 720x360 with 1 Axes>"
      ]
     },
     "metadata": {
      "needs_background": "light"
     },
     "output_type": "display_data"
    }
   ],
   "source": [
    "plt.figure(figsize=(10, 5))\n",
    "plt.scatter(positive_x1, positive_x2, c='red')\n",
    "plt.scatter(negative_x1, negative_x2, c='blue')\n",
    "\n",
    "line_x = np.array([x.min(0)[0], x.max(0)[0]])\n",
    "line_y = - (line_x * clf.coef_[0][0] + clf.intercept_) / clf.coef_[0][1]\n",
    "plt.plot(line_x, line_y)\n",
    "plt.ylim(x.min(0)[1] - 1, x.max(0)[1] + 1)"
   ]
  },
  {
   "cell_type": "code",
   "execution_count": 16,
   "metadata": {},
   "outputs": [],
   "source": [
    "num = 50\n",
    "x = np.vstack((\n",
    "    np.random.randn(num, 2) + 6, np.random.randn(num, 2) + 2\n",
    "))\n",
    "y = np.hstack((\n",
    "    np.ones(num), - np.ones(num)\n",
    "))"
   ]
  },
  {
   "cell_type": "code",
   "execution_count": 17,
   "metadata": {
    "collapsed": true
   },
   "outputs": [
    {
     "data": {
      "text/plain": [
       "(array([[ 3.99141923,  6.60429499],\n",
       "        [ 6.47839946,  5.45336171],\n",
       "        [ 6.54965234,  5.26432043],\n",
       "        [ 5.39270443,  7.04782662],\n",
       "        [ 5.96819206,  5.53937434],\n",
       "        [ 6.16815663,  6.24403701],\n",
       "        [ 7.09276469,  6.24782601],\n",
       "        [ 6.52099238,  5.16439152],\n",
       "        [ 7.5537107 ,  6.82545095],\n",
       "        [ 6.94974122,  5.50167745],\n",
       "        [ 5.69878281,  5.56241557],\n",
       "        [ 6.45031578,  5.88487342],\n",
       "        [ 6.89926623,  5.473085  ],\n",
       "        [ 6.13695081,  7.26819352],\n",
       "        [ 6.79644534,  6.90335017],\n",
       "        [ 6.37986068,  5.49393598],\n",
       "        [ 5.79030037,  6.30477188],\n",
       "        [ 5.17258904,  6.29802973],\n",
       "        [ 6.46970318,  5.99861847],\n",
       "        [ 5.92134677,  8.01179035],\n",
       "        [ 5.23690118,  6.32104542],\n",
       "        [ 6.3170309 ,  4.19356296],\n",
       "        [ 6.11551017,  6.95447108],\n",
       "        [ 5.96302544,  5.81543971],\n",
       "        [ 5.34308058,  5.05067246],\n",
       "        [ 5.76921609,  5.40221817],\n",
       "        [ 5.54962438,  6.35278487],\n",
       "        [ 7.36044174,  5.39563237],\n",
       "        [ 5.73167906,  7.24812477],\n",
       "        [ 7.19465992,  6.41546375],\n",
       "        [ 5.11579978,  6.60951016],\n",
       "        [ 6.8233238 ,  5.22647257],\n",
       "        [ 6.17123226,  5.38759665],\n",
       "        [ 6.46556419,  6.25606894],\n",
       "        [ 6.16653095,  6.73119865],\n",
       "        [ 6.22508527,  7.36364654],\n",
       "        [ 6.20491321,  4.75049197],\n",
       "        [ 5.53258329,  6.32077734],\n",
       "        [ 6.87187728,  6.1124717 ],\n",
       "        [ 6.61599383,  6.92501062],\n",
       "        [ 6.76342433,  9.0894064 ],\n",
       "        [ 6.15704035,  5.2340152 ],\n",
       "        [ 3.80545259,  6.92936093],\n",
       "        [ 5.71648967,  4.64847708],\n",
       "        [ 5.23151126,  8.0740436 ],\n",
       "        [ 6.09408205,  6.41673906],\n",
       "        [ 6.60357836,  6.54569122],\n",
       "        [ 6.91634634,  5.31851864],\n",
       "        [ 6.97048523,  6.95810345],\n",
       "        [ 5.40163821,  5.45413488],\n",
       "        [ 2.38049502,  2.43471916],\n",
       "        [ 1.22555217,  1.77993944],\n",
       "        [ 2.0627317 ,  1.65577467],\n",
       "        [ 1.05266336, -1.53269285],\n",
       "        [ 2.02394099,  1.98389032],\n",
       "        [ 0.87735409,  1.94658891],\n",
       "        [ 2.72383291,  2.81265377],\n",
       "        [ 3.58397511,  1.69432898],\n",
       "        [ 3.60035214,  2.81556403],\n",
       "        [ 0.88026757,  1.16281453],\n",
       "        [ 2.5150293 ,  0.90069628],\n",
       "        [ 1.91628157,  3.69212007],\n",
       "        [ 0.53048734,  1.05433449],\n",
       "        [ 1.7100752 ,  1.92793839],\n",
       "        [ 1.97965616,  2.27281022],\n",
       "        [ 2.5278719 ,  1.09740429],\n",
       "        [ 2.72243567,  3.1806943 ],\n",
       "        [ 3.24544527,  2.74387102],\n",
       "        [ 2.95438997,  2.22514137],\n",
       "        [ 1.73292772,  1.69909594],\n",
       "        [ 1.80745527,  1.57292299],\n",
       "        [ 1.08642492,  2.32065751],\n",
       "        [ 1.55710423,  2.67735393],\n",
       "        [ 2.29053824,  2.4911579 ],\n",
       "        [ 0.71710008,  1.36189721],\n",
       "        [ 0.80795691,  2.82381612],\n",
       "        [ 2.174645  ,  1.99101454],\n",
       "        [ 1.46812058,  1.92501486],\n",
       "        [ 3.15607195,  0.49364013],\n",
       "        [ 3.79995648,  2.98138466],\n",
       "        [ 0.50205013,  3.23118811],\n",
       "        [ 2.76569475,  3.1418611 ],\n",
       "        [ 2.29110821,  3.09721536],\n",
       "        [ 2.18982837,  1.38185643],\n",
       "        [ 0.48946083,  1.82744091],\n",
       "        [ 1.89547847,  2.38203459],\n",
       "        [-0.09191414,  3.85315635],\n",
       "        [ 1.88522078,  0.09189107],\n",
       "        [ 2.22215176,  1.93852375],\n",
       "        [ 1.79141807,  4.14516725],\n",
       "        [ 1.73236895,  1.63036716],\n",
       "        [ 1.80480146,  0.90451782],\n",
       "        [ 1.74048494,  2.7991158 ],\n",
       "        [ 2.57900519,  1.97889494],\n",
       "        [ 1.20208118,  1.18329795],\n",
       "        [ 1.437168  ,  1.3374452 ],\n",
       "        [ 2.90281958,  1.47047293],\n",
       "        [ 2.17856158,  0.97692499],\n",
       "        [ 1.97620527,  2.63280134],\n",
       "        [ 4.36928448,  1.03415399]]),\n",
       " array([ 1.,  1.,  1.,  1.,  1.,  1.,  1.,  1.,  1.,  1.,  1.,  1.,  1.,\n",
       "         1.,  1.,  1.,  1.,  1.,  1.,  1.,  1.,  1.,  1.,  1.,  1.,  1.,\n",
       "         1.,  1.,  1.,  1.,  1.,  1.,  1.,  1.,  1.,  1.,  1.,  1.,  1.,\n",
       "         1.,  1.,  1.,  1.,  1.,  1.,  1.,  1.,  1.,  1.,  1., -1., -1.,\n",
       "        -1., -1., -1., -1., -1., -1., -1., -1., -1., -1., -1., -1., -1.,\n",
       "        -1., -1., -1., -1., -1., -1., -1., -1., -1., -1., -1., -1., -1.,\n",
       "        -1., -1., -1., -1., -1., -1., -1., -1., -1., -1., -1., -1., -1.,\n",
       "        -1., -1., -1., -1., -1., -1., -1., -1., -1.]))"
      ]
     },
     "execution_count": 17,
     "metadata": {},
     "output_type": "execute_result"
    }
   ],
   "source": [
    "x, y"
   ]
  },
  {
   "cell_type": "code",
   "execution_count": 20,
   "metadata": {},
   "outputs": [],
   "source": [
    "w = [0, 0]\n",
    "b = 0\n",
    "lr = 1"
   ]
  },
  {
   "cell_type": "code",
   "execution_count": 21,
   "metadata": {},
   "outputs": [],
   "source": [
    "for j in range(100):\n",
    "    wrong_pt_cnt = 0\n",
    "    for i in range(len(y)):\n",
    "        if y[i] != np.sign(np.dot(w, x[i]) + b):\n",
    "            w += lr * y[i] * x[i]\n",
    "            b += lr * y[i]\n",
    "            wrong_pt_cnt += 1\n",
    "    if wrong_pt_cnt == 0:\n",
    "        break"
   ]
  },
  {
   "cell_type": "code",
   "execution_count": 22,
   "metadata": {},
   "outputs": [],
   "source": [
    "def draw_pts(x, y):\n",
    "    for i in range(len(x)):\n",
    "        if y[i] == 1:\n",
    "            plt.plot(x[i][0], x[i][1], 'ro')\n",
    "        else:\n",
    "            plt.plot(x[i][0], x[i][1], 'bo')"
   ]
  },
  {
   "cell_type": "code",
   "execution_count": 23,
   "metadata": {},
   "outputs": [],
   "source": [
    "def draw_line(w, b):\n",
    "    line_x = [0, 7]\n",
    "    line_y = [0, 0]\n",
    "\n",
    "    for i in range(len(line_x)):\n",
    "        line_y[i] = (- w[0] * line_x[i] - b) / (w[1] + 1e-9)\n",
    "    plt.plot(line_x, line_y)"
   ]
  },
  {
   "cell_type": "code",
   "execution_count": 24,
   "metadata": {
    "scrolled": true
   },
   "outputs": [
    {
     "data": {
      "image/png": "[encoded data removed]",
      "text/plain": [
       "<Figure size 720x360 with 1 Axes>"
      ]
     },
     "metadata": {
      "needs_background": "light"
     },
     "output_type": "display_data"
    }
   ],
   "source": [
    "plt.figure(figsize=(10, 5))\n",
    "draw_pts(x, y)\n",
    "draw_line(w, b)"
   ]
  },
  {
   "cell_type": "code",
   "execution_count": null,
   "metadata": {},
   "outputs": [],
   "source": []
  }
 ],
 "metadata": {
  "kernelspec": {
   "display_name": "Python 3",
   "language": "python",
   "name": "python3"
  },
  "language_info": {
   "codemirror_mode": {
    "name": "ipython",
    "version": 3
   },
   "file_extension": ".py",
   "mimetype": "text/x-python",
   "name": "python",
   "nbconvert_exporter": "python",
   "pygments_lexer": "ipython3",
   "version": "3.7.7"
  },
  "toc": {
   "base_numbering": 1,
   "nav_menu": {},
   "number_sections": true,
   "sideBar": true,
   "skip_h1_title": false,
   "title_cell": "Table of Contents",
   "title_sidebar": "Contents",
   "toc_cell": false,
   "toc_position": {},
   "toc_section_display": true,
   "toc_window_display": false
  }
 },
 "nbformat": 4,
 "nbformat_minor": 4
}
